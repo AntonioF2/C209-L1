{
 "cells": [
  {
   "cell_type": "markdown",
   "id": "4e95dfa9",
   "metadata": {},
   "source": [
    "# Projeto 2 C209\n",
    "\n",
    "◦ Gravar um video de si mesmo lendo o texto no arquivo anexo\n",
    "\n",
    "◦ Inverter a imagem, no eixo, a cada 20 segundo\n",
    "\n",
    "◦ Diminiur o som, de forma gradativa, a cada 30 segundos, de forma que os últimos 10 segundos fique em silêncio (sem som)\n",
    "\n",
    "◦ Após o primeiro minuto, 60 segundos, fazer um corte para o segundo 80\n",
    "\n",
    "◦ Por fim, insira os 20 segundos cortados acima no fim do video"
   ]
  },
  {
   "cell_type": "markdown",
   "id": "c197862d",
   "metadata": {},
   "source": [
    "# Importar bibliotecas"
   ]
  },
  {
   "cell_type": "code",
   "execution_count": 2,
   "id": "55f27a3d",
   "metadata": {},
   "outputs": [],
   "source": [
    "import moviepy.editor as mpe\n",
    "import numpy as np\n",
    "from IPython.display import display"
   ]
  },
  {
   "cell_type": "markdown",
   "id": "90eeb7d7",
   "metadata": {},
   "source": [
    "## Carregar o video"
   ]
  },
  {
   "cell_type": "code",
   "execution_count": 3,
   "id": "677e514d",
   "metadata": {},
   "outputs": [],
   "source": [
    "video = mpe.VideoFileClip('videoC209.mp4')"
   ]
  },
  {
   "cell_type": "markdown",
   "id": "d6af72f7",
   "metadata": {},
   "source": [
    "## inverter o eixo a cada 20s"
   ]
  },
  {
   "cell_type": "code",
   "execution_count": null,
   "id": "aefce30d",
   "metadata": {},
   "outputs": [],
   "source": [
    "def Invertereixo(frame):\n",
    "    return np.flipud(frame)\n",
    "\n",
    "duracao = video.duration\n",
    "segmentos = []\n",
    "inverter = False\n",
    "for comeco in np.arange(0, duracao, 20):\n",
    "    final = min(comeco + 20, duracao)\n",
    "    clipe = video.subclip(comeco, final)\n",
    "    if inverter:\n",
    "        clipe = clipe.fl_image(Invertereixo)\n",
    "    segmentos.append(clipe)\n",
    "    inverter = not inverter\n",
    "\n",
    "    \n",
    "video_invertido = mpe.concatenate_videoclips(segmentos)\n"
   ]
  },
  {
   "cell_type": "markdown",
   "id": "a0c93af4",
   "metadata": {},
   "source": [
    "# Reduz o audio a cada 30 segundos e silencia"
   ]
  },
  {
   "cell_type": "code",
   "execution_count": null,
   "id": "9f0aa4a1",
   "metadata": {},
   "outputs": [],
   "source": [
    "def audiofade(get_frame, t):\n",
    "    total = video_invertido.duration\n",
    "    t_arr = np.array(t)\n",
    "    audio = get_frame(t)\n",
    "    silence_mask = t_arr > (total - 10)\n",
    "    fade = 1.0 - (t_arr // 30) * (1.0 / (total // 30))\n",
    "    fade = np.clip(fade, 0.0, 1.0)\n",
    "    if np.isscalar(t):\n",
    "        if silence_mask:\n",
    "            return np.zeros_like(audio)\n",
    "        else:\n",
    "            return audio * fade\n",
    "    if audio.ndim == 2 and fade.ndim == 1:\n",
    "        audio = audio * fade[..., None]\n",
    "    else:\n",
    "        audio = audio * fade\n",
    "    audio[silence_mask] = 0\n",
    "    return audio\n",
    "\n",
    "if video_invertido.audio is not None:\n",
    "    audio_faded = video_invertido.audio.fl(audiofade)\n",
    "    video_audio = video_invertido.set_audio(audio_faded)\n",
    "else:\n",
    "    video_audio = video_invertido\n",
    "\n"
   ]
  },
  {
   "cell_type": "markdown",
   "id": "b4360740",
   "metadata": {},
   "source": [
    "# Cortar do segundo 60 para o segundo 80"
   ]
  },
  {
   "cell_type": "code",
   "execution_count": 6,
   "id": "17422d52",
   "metadata": {},
   "outputs": [],
   "source": [
    "video1 = video_audio.subclip(0, 60)\n",
    "videocorte = video_audio.subclip(60, 80)\n",
    "video2 = video_audio.subclip(80)\n",
    "\n",
    "videofinal = mpe.concatenate_videoclips([video1, videocorte, video2])"
   ]
  },
  {
   "cell_type": "markdown",
   "id": "14ff36f0",
   "metadata": {},
   "source": [
    "# Salvar video final"
   ]
  },
  {
   "cell_type": "code",
   "execution_count": 12,
   "id": "3dc4eab3",
   "metadata": {},
   "outputs": [
    {
     "name": "stdout",
     "output_type": "stream",
     "text": [
      "Moviepy - Building video VideoC209Final.mp4.\n",
      "MoviePy - Writing audio in VideoC209FinalTEMP_MPY_wvf_snd.mp3\n"
     ]
    },
    {
     "name": "stderr",
     "output_type": "stream",
     "text": [
      "                                                                      \r"
     ]
    },
    {
     "name": "stdout",
     "output_type": "stream",
     "text": [
      "MoviePy - Done.\n",
      "Moviepy - Writing video VideoC209Final.mp4\n",
      "\n"
     ]
    },
    {
     "name": "stderr",
     "output_type": "stream",
     "text": [
      "                                                                \r"
     ]
    },
    {
     "name": "stdout",
     "output_type": "stream",
     "text": [
      "Moviepy - Done !\n",
      "Moviepy - video ready VideoC209Final.mp4\n"
     ]
    }
   ],
   "source": [
    "videofinal = videofinal.resize(height=1080)\n",
    "videofinal.write_videofile('VideoC209Final.mp4')"
   ]
  }
 ],
 "metadata": {
  "kernelspec": {
   "display_name": "Python 3",
   "language": "python",
   "name": "python3"
  },
  "language_info": {
   "codemirror_mode": {
    "name": "ipython",
    "version": 3
   },
   "file_extension": ".py",
   "mimetype": "text/x-python",
   "name": "python",
   "nbconvert_exporter": "python",
   "pygments_lexer": "ipython3",
   "version": "3.12.10"
  }
 },
 "nbformat": 4,
 "nbformat_minor": 5
}
